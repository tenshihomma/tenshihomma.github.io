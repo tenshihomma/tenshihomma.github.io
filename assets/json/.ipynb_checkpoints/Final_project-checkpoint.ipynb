{
 "cells": [
  {
   "cell_type": "code",
   "execution_count": 37,
   "id": "e581bb57",
   "metadata": {},
   "outputs": [],
   "source": [
    "import altair as alt\n",
    "\n",
    "# Define the brush for interaction\n",
    "brush = alt.selection_interval(encodings=['x', 'y'])\n",
    "\n",
    "# Heatmap (chart1)\n",
    "chart1 = alt.Chart.from_dict({\n",
    "  \"data\": {\"url\": \"https://data.wa.gov/resource/f6w7-q2d2.csv\"},\n",
    "  \"mark\": \"rect\",\n",
    "  \"height\": 400,\n",
    "  \"encoding\": {\n",
    "    \"x\": {\n",
    "        \"field\": \"model_year\",\n",
    "        \"type\": \"ordinal\",\n",
    "        \"axis\": {\"title\": \"Model Year\"}\n",
    "    },\n",
    "    \"y\": {\n",
    "        \"field\": \"make\",\n",
    "        \"type\": \"ordinal\",\n",
    "        \"axis\": {\"title\": \"Make\"}\n",
    "    },\n",
    "    \"color\": {\n",
    "        \"aggregate\": \"count\",\n",
    "        \"field\": \"vin_1_10\",\n",
    "        \"type\": \"quantitative\",\n",
    "        \"scale\": {\"scheme\": \"greens\"},\n",
    "        \"legend\": {\"title\": \"Number of Vehicles\"}\n",
    "    }\n",
    "  }\n",
    "}).add_selection(brush)\n",
    "\n",
    "# Bar Chart (chart2)\n",
    "chart2 = alt.Chart.from_dict({\n",
    "  \"data\": {\"url\": \"https://data.wa.gov/resource/f6w7-q2d2.csv\"},\n",
    "  \"mark\": \"bar\",\n",
    "  \"encoding\": {\n",
    "    \"x\": {\n",
    "        \"field\": \"model\",\n",
    "        \"type\": \"ordinal\",\n",
    "        \"title\": \"Model\"\n",
    "    },\n",
    "    \"y\": {\n",
    "        \"aggregate\": \"count\",\n",
    "        \"field\": \"vin_1_10\",\n",
    "        \"type\": \"quantitative\",\n",
    "        \"title\": \"Count of Vehicles\"\n",
    "    },\n",
    "    \"color\": {\n",
    "        \"field\": \"model\",\n",
    "        \"type\": \"nominal\"\n",
    "    }\n",
    "  }\n",
    "}).transform_filter(brush)\n",
    "# Combine the charts\n",
    "chart = chart1 & chart2\n"
   ]
  },
  {
   "cell_type": "code",
   "execution_count": 38,
   "id": "3d589b5a",
   "metadata": {},
   "outputs": [
    {
     "data": {
      "text/html": [
       "\n",
       "<style>\n",
       "  #altair-viz-d7886bcc924e473eaa8d797cc1d143b1.vega-embed {\n",
       "    width: 100%;\n",
       "    display: flex;\n",
       "  }\n",
       "\n",
       "  #altair-viz-d7886bcc924e473eaa8d797cc1d143b1.vega-embed details,\n",
       "  #altair-viz-d7886bcc924e473eaa8d797cc1d143b1.vega-embed details summary {\n",
       "    position: relative;\n",
       "  }\n",
       "</style>\n",
       "<div id=\"altair-viz-d7886bcc924e473eaa8d797cc1d143b1\"></div>\n",
       "<script type=\"text/javascript\">\n",
       "  var VEGA_DEBUG = (typeof VEGA_DEBUG == \"undefined\") ? {} : VEGA_DEBUG;\n",
       "  (function(spec, embedOpt){\n",
       "    let outputDiv = document.currentScript.previousElementSibling;\n",
       "    if (outputDiv.id !== \"altair-viz-d7886bcc924e473eaa8d797cc1d143b1\") {\n",
       "      outputDiv = document.getElementById(\"altair-viz-d7886bcc924e473eaa8d797cc1d143b1\");\n",
       "    }\n",
       "    const paths = {\n",
       "      \"vega\": \"https://cdn.jsdelivr.net/npm/vega@5?noext\",\n",
       "      \"vega-lib\": \"https://cdn.jsdelivr.net/npm/vega-lib?noext\",\n",
       "      \"vega-lite\": \"https://cdn.jsdelivr.net/npm/vega-lite@5.15.1?noext\",\n",
       "      \"vega-embed\": \"https://cdn.jsdelivr.net/npm/vega-embed@6?noext\",\n",
       "    };\n",
       "\n",
       "    function maybeLoadScript(lib, version) {\n",
       "      var key = `${lib.replace(\"-\", \"\")}_version`;\n",
       "      return (VEGA_DEBUG[key] == version) ?\n",
       "        Promise.resolve(paths[lib]) :\n",
       "        new Promise(function(resolve, reject) {\n",
       "          var s = document.createElement('script');\n",
       "          document.getElementsByTagName(\"head\")[0].appendChild(s);\n",
       "          s.async = true;\n",
       "          s.onload = () => {\n",
       "            VEGA_DEBUG[key] = version;\n",
       "            return resolve(paths[lib]);\n",
       "          };\n",
       "          s.onerror = () => reject(`Error loading script: ${paths[lib]}`);\n",
       "          s.src = paths[lib];\n",
       "        });\n",
       "    }\n",
       "\n",
       "    function showError(err) {\n",
       "      outputDiv.innerHTML = `<div class=\"error\" style=\"color:red;\">${err}</div>`;\n",
       "      throw err;\n",
       "    }\n",
       "\n",
       "    function displayChart(vegaEmbed) {\n",
       "      vegaEmbed(outputDiv, spec, embedOpt)\n",
       "        .catch(err => showError(`Javascript Error: ${err.message}<br>This usually means there's a typo in your chart specification. See the javascript console for the full traceback.`));\n",
       "    }\n",
       "\n",
       "    if(typeof define === \"function\" && define.amd) {\n",
       "      requirejs.config({paths});\n",
       "      require([\"vega-embed\"], displayChart, err => showError(`Error loading script: ${err.message}`));\n",
       "    } else {\n",
       "      maybeLoadScript(\"vega\", \"5\")\n",
       "        .then(() => maybeLoadScript(\"vega-lite\", \"5.15.1\"))\n",
       "        .then(() => maybeLoadScript(\"vega-embed\", \"6\"))\n",
       "        .catch(showError)\n",
       "        .then(() => displayChart(vegaEmbed));\n",
       "    }\n",
       "  })({\"config\": {\"view\": {\"continuousWidth\": 300, \"continuousHeight\": 300}}, \"vconcat\": [{\"data\": {\"url\": \"https://data.wa.gov/resource/f6w7-q2d2.csv\"}, \"mark\": \"rect\", \"encoding\": {\"color\": {\"aggregate\": \"count\", \"field\": \"vin_1_10\", \"legend\": {\"title\": \"Number of Vehicles\"}, \"scale\": {\"scheme\": \"greens\"}, \"type\": \"quantitative\"}, \"x\": {\"axis\": {\"title\": \"Model Year\"}, \"field\": \"model_year\", \"type\": \"ordinal\"}, \"y\": {\"axis\": {\"title\": \"Make\"}, \"field\": \"make\", \"type\": \"ordinal\"}}, \"height\": 400, \"name\": \"view_22\"}, {\"data\": {\"url\": \"https://data.wa.gov/resource/f6w7-q2d2.csv\"}, \"mark\": \"bar\", \"encoding\": {\"color\": {\"field\": \"model\", \"type\": \"nominal\"}, \"x\": {\"field\": \"model\", \"title\": \"Model\", \"type\": \"ordinal\"}, \"y\": {\"aggregate\": \"count\", \"field\": \"vin_1_10\", \"title\": \"Count of Vehicles\", \"type\": \"quantitative\"}}, \"transform\": [{\"filter\": {\"param\": \"param_15\"}}]}], \"params\": [{\"name\": \"param_15\", \"select\": {\"type\": \"interval\", \"encodings\": [\"x\", \"y\"]}, \"views\": [\"view_22\"]}], \"$schema\": \"https://vega.github.io/schema/vega-lite/v5.15.1.json\"}, {\"mode\": \"vega-lite\"});\n",
       "</script>"
      ],
      "text/plain": [
       "alt.VConcatChart(...)"
      ]
     },
     "execution_count": 38,
     "metadata": {},
     "output_type": "execute_result"
    }
   ],
   "source": [
    "chart"
   ]
  },
  {
   "cell_type": "code",
   "execution_count": 44,
   "id": "6e8a80da",
   "metadata": {},
   "outputs": [],
   "source": [
    "myJekyllDir = '/Users/tenshi/Desktop/IS445/tenshihomma.github.io/assets/'"
   ]
  },
  {
   "cell_type": "code",
   "execution_count": 45,
   "id": "3ce0f82f",
   "metadata": {},
   "outputs": [],
   "source": [
    "chart.save(myJekyllDir + 'project_part3.json')"
   ]
  },
  {
   "cell_type": "code",
   "execution_count": null,
   "id": "135827d3",
   "metadata": {},
   "outputs": [],
   "source": []
  }
 ],
 "metadata": {
  "kernelspec": {
   "display_name": "Python 3 (ipykernel)",
   "language": "python",
   "name": "python3"
  },
  "language_info": {
   "codemirror_mode": {
    "name": "ipython",
    "version": 3
   },
   "file_extension": ".py",
   "mimetype": "text/x-python",
   "name": "python",
   "nbconvert_exporter": "python",
   "pygments_lexer": "ipython3",
   "version": "3.9.13"
  }
 },
 "nbformat": 4,
 "nbformat_minor": 5
}
