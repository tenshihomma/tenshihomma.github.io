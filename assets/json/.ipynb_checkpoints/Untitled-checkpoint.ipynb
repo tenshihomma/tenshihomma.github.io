{
 "cells": [
  {
   "cell_type": "code",
   "execution_count": 3,
   "id": "a7fb3375",
   "metadata": {},
   "outputs": [
    {
     "name": "stdout",
     "output_type": "stream",
     "text": [
      "Collecting altair\n",
      "  Downloading altair-5.1.2-py3-none-any.whl (516 kB)\n",
      "\u001b[2K     \u001b[90m━━━━━━━━━━━━━━━━━━━━━━━━━━━━━━━━━━━━━━━\u001b[0m \u001b[32m516.2/516.2 kB\u001b[0m \u001b[31m1.5 MB/s\u001b[0m eta \u001b[36m0:00:00\u001b[0ma \u001b[36m0:00:01\u001b[0m\n",
      "\u001b[?25hCollecting vega_datasets\n",
      "  Downloading vega_datasets-0.9.0-py3-none-any.whl (210 kB)\n",
      "\u001b[2K     \u001b[90m━━━━━━━━━━━━━━━━━━━━━━━━━━━━━━━━━━━━━━━\u001b[0m \u001b[32m210.8/210.8 kB\u001b[0m \u001b[31m1.8 MB/s\u001b[0m eta \u001b[36m0:00:00\u001b[0ma \u001b[36m0:00:01\u001b[0m\n",
      "\u001b[?25hRequirement already satisfied: jinja2 in /Users/tenshi/opt/anaconda3/lib/python3.9/site-packages (from altair) (2.11.3)\n",
      "Requirement already satisfied: jsonschema>=3.0 in /Users/tenshi/opt/anaconda3/lib/python3.9/site-packages (from altair) (4.16.0)\n",
      "Requirement already satisfied: numpy in /Users/tenshi/opt/anaconda3/lib/python3.9/site-packages (from altair) (1.21.5)\n",
      "Requirement already satisfied: packaging in /Users/tenshi/opt/anaconda3/lib/python3.9/site-packages (from altair) (21.3)\n",
      "Requirement already satisfied: pandas>=0.25 in /Users/tenshi/opt/anaconda3/lib/python3.9/site-packages (from altair) (1.4.4)\n",
      "Requirement already satisfied: toolz in /Users/tenshi/opt/anaconda3/lib/python3.9/site-packages (from altair) (0.11.2)\n",
      "Requirement already satisfied: typing-extensions>=4.0.1 in /Users/tenshi/opt/anaconda3/lib/python3.9/site-packages (from altair) (4.3.0)\n",
      "Requirement already satisfied: attrs>=17.4.0 in /Users/tenshi/opt/anaconda3/lib/python3.9/site-packages (from jsonschema>=3.0->altair) (21.4.0)\n",
      "Requirement already satisfied: pyrsistent!=0.17.0,!=0.17.1,!=0.17.2,>=0.14.0 in /Users/tenshi/opt/anaconda3/lib/python3.9/site-packages (from jsonschema>=3.0->altair) (0.18.0)\n",
      "Requirement already satisfied: python-dateutil>=2.8.1 in /Users/tenshi/opt/anaconda3/lib/python3.9/site-packages (from pandas>=0.25->altair) (2.8.2)\n",
      "Requirement already satisfied: pytz>=2020.1 in /Users/tenshi/opt/anaconda3/lib/python3.9/site-packages (from pandas>=0.25->altair) (2022.1)\n",
      "Requirement already satisfied: MarkupSafe>=0.23 in /Users/tenshi/opt/anaconda3/lib/python3.9/site-packages (from jinja2->altair) (2.0.1)\n",
      "Requirement already satisfied: pyparsing!=3.0.5,>=2.0.2 in /Users/tenshi/opt/anaconda3/lib/python3.9/site-packages (from packaging->altair) (3.0.9)\n",
      "Requirement already satisfied: six>=1.5 in /Users/tenshi/opt/anaconda3/lib/python3.9/site-packages (from python-dateutil>=2.8.1->pandas>=0.25->altair) (1.16.0)\n",
      "Installing collected packages: vega_datasets, altair\n",
      "Successfully installed altair-5.1.2 vega_datasets-0.9.0\n",
      "\n",
      "\u001b[1m[\u001b[0m\u001b[34;49mnotice\u001b[0m\u001b[1;39;49m]\u001b[0m\u001b[39;49m A new release of pip is available: \u001b[0m\u001b[31;49m23.1.2\u001b[0m\u001b[39;49m -> \u001b[0m\u001b[32;49m23.3.1\u001b[0m\n",
      "\u001b[1m[\u001b[0m\u001b[34;49mnotice\u001b[0m\u001b[1;39;49m]\u001b[0m\u001b[39;49m To update, run: \u001b[0m\u001b[32;49mpip install --upgrade pip\u001b[0m\n",
      "Note: you may need to restart the kernel to use updated packages.\n"
     ]
    }
   ],
   "source": [
    "pip install altair vega_datasets"
   ]
  },
  {
   "cell_type": "code",
   "execution_count": 4,
   "id": "d87723cf",
   "metadata": {},
   "outputs": [],
   "source": [
    "import altair as alt"
   ]
  },
  {
   "cell_type": "code",
   "execution_count": 5,
   "id": "d8f7c346",
   "metadata": {},
   "outputs": [],
   "source": [
    "myJekyllDir = '/Users/tenshi/Desktop/IS445/tenshihomma.github.io/assets/json/'"
   ]
  },
  {
   "cell_type": "code",
   "execution_count": 64,
   "id": "5339a1a1",
   "metadata": {},
   "outputs": [],
   "source": [
    "brush = alt.selection_interval(encodings=['x','y'])"
   ]
  },
  {
   "cell_type": "code",
   "execution_count": 65,
   "id": "0c00a194",
   "metadata": {},
   "outputs": [],
   "source": [
    "chart1 = alt.Chart.from_dict({\n",
    "  \"data\": {\"url\": \"https://raw.githubusercontent.com/UIUC-iSchool-DataViz/is445_data/main/bfro_reports_fall2022.csv\"},\n",
    "  \"mark\": \"rect\",\n",
    "  \"height\": 300,\n",
    "  \"encoding\": {\n",
    "    \"x\": {\n",
    "        \"field\": \"state\",\n",
    "        \"type\": \"ordinal\"\n",
    "    },\n",
    "    \"y\": {\n",
    "        \"field\": \"season\",\n",
    "        \"type\": \"ordinal\"\n",
    "    },\n",
    "    \"color\": {\n",
    "        \"aggregate\": \"mean\",  \n",
    "        \"field\": \"temperature_high\",\n",
    "        \"type\": \"quantitative\"\n",
    "    }\n",
    "  }\n",
    "}).add_selection(brush)"
   ]
  },
  {
   "cell_type": "code",
   "execution_count": 66,
   "id": "1031d39e",
   "metadata": {},
   "outputs": [
    {
     "data": {
      "text/html": [
       "\n",
       "<style>\n",
       "  #altair-viz-cf25487dbac841d18de451634263eec7.vega-embed {\n",
       "    width: 100%;\n",
       "    display: flex;\n",
       "  }\n",
       "\n",
       "  #altair-viz-cf25487dbac841d18de451634263eec7.vega-embed details,\n",
       "  #altair-viz-cf25487dbac841d18de451634263eec7.vega-embed details summary {\n",
       "    position: relative;\n",
       "  }\n",
       "</style>\n",
       "<div id=\"altair-viz-cf25487dbac841d18de451634263eec7\"></div>\n",
       "<script type=\"text/javascript\">\n",
       "  var VEGA_DEBUG = (typeof VEGA_DEBUG == \"undefined\") ? {} : VEGA_DEBUG;\n",
       "  (function(spec, embedOpt){\n",
       "    let outputDiv = document.currentScript.previousElementSibling;\n",
       "    if (outputDiv.id !== \"altair-viz-cf25487dbac841d18de451634263eec7\") {\n",
       "      outputDiv = document.getElementById(\"altair-viz-cf25487dbac841d18de451634263eec7\");\n",
       "    }\n",
       "    const paths = {\n",
       "      \"vega\": \"https://cdn.jsdelivr.net/npm/vega@5?noext\",\n",
       "      \"vega-lib\": \"https://cdn.jsdelivr.net/npm/vega-lib?noext\",\n",
       "      \"vega-lite\": \"https://cdn.jsdelivr.net/npm/vega-lite@5.15.1?noext\",\n",
       "      \"vega-embed\": \"https://cdn.jsdelivr.net/npm/vega-embed@6?noext\",\n",
       "    };\n",
       "\n",
       "    function maybeLoadScript(lib, version) {\n",
       "      var key = `${lib.replace(\"-\", \"\")}_version`;\n",
       "      return (VEGA_DEBUG[key] == version) ?\n",
       "        Promise.resolve(paths[lib]) :\n",
       "        new Promise(function(resolve, reject) {\n",
       "          var s = document.createElement('script');\n",
       "          document.getElementsByTagName(\"head\")[0].appendChild(s);\n",
       "          s.async = true;\n",
       "          s.onload = () => {\n",
       "            VEGA_DEBUG[key] = version;\n",
       "            return resolve(paths[lib]);\n",
       "          };\n",
       "          s.onerror = () => reject(`Error loading script: ${paths[lib]}`);\n",
       "          s.src = paths[lib];\n",
       "        });\n",
       "    }\n",
       "\n",
       "    function showError(err) {\n",
       "      outputDiv.innerHTML = `<div class=\"error\" style=\"color:red;\">${err}</div>`;\n",
       "      throw err;\n",
       "    }\n",
       "\n",
       "    function displayChart(vegaEmbed) {\n",
       "      vegaEmbed(outputDiv, spec, embedOpt)\n",
       "        .catch(err => showError(`Javascript Error: ${err.message}<br>This usually means there's a typo in your chart specification. See the javascript console for the full traceback.`));\n",
       "    }\n",
       "\n",
       "    if(typeof define === \"function\" && define.amd) {\n",
       "      requirejs.config({paths});\n",
       "      require([\"vega-embed\"], displayChart, err => showError(`Error loading script: ${err.message}`));\n",
       "    } else {\n",
       "      maybeLoadScript(\"vega\", \"5\")\n",
       "        .then(() => maybeLoadScript(\"vega-lite\", \"5.15.1\"))\n",
       "        .then(() => maybeLoadScript(\"vega-embed\", \"6\"))\n",
       "        .catch(showError)\n",
       "        .then(() => displayChart(vegaEmbed));\n",
       "    }\n",
       "  })({\"config\": {\"view\": {\"continuousWidth\": 300, \"continuousHeight\": 300}}, \"data\": {\"url\": \"https://raw.githubusercontent.com/UIUC-iSchool-DataViz/is445_data/main/bfro_reports_fall2022.csv\"}, \"mark\": \"rect\", \"encoding\": {\"color\": {\"aggregate\": \"mean\", \"field\": \"temperature_high\", \"type\": \"quantitative\"}, \"x\": {\"field\": \"state\", \"type\": \"ordinal\"}, \"y\": {\"field\": \"season\", \"type\": \"ordinal\"}}, \"height\": 300, \"params\": [{\"name\": \"param_2\", \"select\": {\"type\": \"interval\", \"encodings\": [\"x\", \"y\"]}}], \"$schema\": \"https://vega.github.io/schema/vega-lite/v5.15.1.json\"}, {\"mode\": \"vega-lite\"});\n",
       "</script>"
      ],
      "text/plain": [
       "alt.Chart(...)"
      ]
     },
     "execution_count": 66,
     "metadata": {},
     "output_type": "execute_result"
    }
   ],
   "source": [
    "chart1"
   ]
  },
  {
   "cell_type": "code",
   "execution_count": 69,
   "id": "2d6b5e7c",
   "metadata": {},
   "outputs": [
    {
     "name": "stderr",
     "output_type": "stream",
     "text": [
      "/Users/tenshi/opt/anaconda3/lib/python3.9/site-packages/altair/utils/deprecation.py:65: AltairDeprecationWarning: 'selection' is deprecated.\n",
      "   Use 'selection_point()' or 'selection_interval()' instead; these functions also include more helpful docstrings.\n",
      "  warnings.warn(message, AltairDeprecationWarning, stacklevel=1)\n"
     ]
    }
   ],
   "source": [
    "brush = alt.selection(type='interval')"
   ]
  },
  {
   "cell_type": "code",
   "execution_count": 76,
   "id": "60388fa0",
   "metadata": {},
   "outputs": [],
   "source": [
    "chart2 = alt.Chart.from_dict({\n",
    "  \"data\": {\"url\": \"https://raw.githubusercontent.com/UIUC-iSchool-DataViz/is445_data/main/bfro_reports_fall2022.csv\"},\n",
    "  \"mark\": \"bar\",\n",
    "  \"encoding\": {\n",
    "    \"x\": {\"bin\": False, \"field\": \"state\", \"type\": \"ordinal\", \"title\": \"State\"},\n",
    "    \"y\": { \"aggregate\": \"count\",\"field\": \"temperature_high\",\"type\": \"quantitative\"},\n",
    "    \n",
    "  }  # End of encoding\n",
    "}).add_selection(\n",
    "    brush  \n",
    ")"
   ]
  },
  {
   "cell_type": "code",
   "execution_count": 77,
   "id": "7015a995",
   "metadata": {},
   "outputs": [
    {
     "data": {
      "text/html": [
       "\n",
       "<style>\n",
       "  #altair-viz-128ac0b1696347bc96fe5406c476b615.vega-embed {\n",
       "    width: 100%;\n",
       "    display: flex;\n",
       "  }\n",
       "\n",
       "  #altair-viz-128ac0b1696347bc96fe5406c476b615.vega-embed details,\n",
       "  #altair-viz-128ac0b1696347bc96fe5406c476b615.vega-embed details summary {\n",
       "    position: relative;\n",
       "  }\n",
       "</style>\n",
       "<div id=\"altair-viz-128ac0b1696347bc96fe5406c476b615\"></div>\n",
       "<script type=\"text/javascript\">\n",
       "  var VEGA_DEBUG = (typeof VEGA_DEBUG == \"undefined\") ? {} : VEGA_DEBUG;\n",
       "  (function(spec, embedOpt){\n",
       "    let outputDiv = document.currentScript.previousElementSibling;\n",
       "    if (outputDiv.id !== \"altair-viz-128ac0b1696347bc96fe5406c476b615\") {\n",
       "      outputDiv = document.getElementById(\"altair-viz-128ac0b1696347bc96fe5406c476b615\");\n",
       "    }\n",
       "    const paths = {\n",
       "      \"vega\": \"https://cdn.jsdelivr.net/npm/vega@5?noext\",\n",
       "      \"vega-lib\": \"https://cdn.jsdelivr.net/npm/vega-lib?noext\",\n",
       "      \"vega-lite\": \"https://cdn.jsdelivr.net/npm/vega-lite@5.15.1?noext\",\n",
       "      \"vega-embed\": \"https://cdn.jsdelivr.net/npm/vega-embed@6?noext\",\n",
       "    };\n",
       "\n",
       "    function maybeLoadScript(lib, version) {\n",
       "      var key = `${lib.replace(\"-\", \"\")}_version`;\n",
       "      return (VEGA_DEBUG[key] == version) ?\n",
       "        Promise.resolve(paths[lib]) :\n",
       "        new Promise(function(resolve, reject) {\n",
       "          var s = document.createElement('script');\n",
       "          document.getElementsByTagName(\"head\")[0].appendChild(s);\n",
       "          s.async = true;\n",
       "          s.onload = () => {\n",
       "            VEGA_DEBUG[key] = version;\n",
       "            return resolve(paths[lib]);\n",
       "          };\n",
       "          s.onerror = () => reject(`Error loading script: ${paths[lib]}`);\n",
       "          s.src = paths[lib];\n",
       "        });\n",
       "    }\n",
       "\n",
       "    function showError(err) {\n",
       "      outputDiv.innerHTML = `<div class=\"error\" style=\"color:red;\">${err}</div>`;\n",
       "      throw err;\n",
       "    }\n",
       "\n",
       "    function displayChart(vegaEmbed) {\n",
       "      vegaEmbed(outputDiv, spec, embedOpt)\n",
       "        .catch(err => showError(`Javascript Error: ${err.message}<br>This usually means there's a typo in your chart specification. See the javascript console for the full traceback.`));\n",
       "    }\n",
       "\n",
       "    if(typeof define === \"function\" && define.amd) {\n",
       "      requirejs.config({paths});\n",
       "      require([\"vega-embed\"], displayChart, err => showError(`Error loading script: ${err.message}`));\n",
       "    } else {\n",
       "      maybeLoadScript(\"vega\", \"5\")\n",
       "        .then(() => maybeLoadScript(\"vega-lite\", \"5.15.1\"))\n",
       "        .then(() => maybeLoadScript(\"vega-embed\", \"6\"))\n",
       "        .catch(showError)\n",
       "        .then(() => displayChart(vegaEmbed));\n",
       "    }\n",
       "  })({\"config\": {\"view\": {\"continuousWidth\": 300, \"continuousHeight\": 300}}, \"data\": {\"url\": \"https://raw.githubusercontent.com/UIUC-iSchool-DataViz/is445_data/main/bfro_reports_fall2022.csv\"}, \"mark\": \"bar\", \"encoding\": {\"x\": {\"bin\": false, \"field\": \"state\", \"title\": \"State\", \"type\": \"ordinal\"}, \"y\": {\"aggregate\": \"count\", \"field\": \"temperature_high\", \"type\": \"quantitative\"}}, \"params\": [{\"name\": \"param_3\", \"select\": {\"type\": \"interval\"}}], \"$schema\": \"https://vega.github.io/schema/vega-lite/v5.15.1.json\"}, {\"mode\": \"vega-lite\"});\n",
       "</script>"
      ],
      "text/plain": [
       "alt.Chart(...)"
      ]
     },
     "execution_count": 77,
     "metadata": {},
     "output_type": "execute_result"
    }
   ],
   "source": [
    "chart2"
   ]
  },
  {
   "cell_type": "code",
   "execution_count": 78,
   "id": "ef040027",
   "metadata": {},
   "outputs": [],
   "source": [
    "chart = chart1 | chart2"
   ]
  },
  {
   "cell_type": "code",
   "execution_count": 79,
   "id": "c9af47eb",
   "metadata": {},
   "outputs": [
    {
     "data": {
      "text/html": [
       "\n",
       "<style>\n",
       "  #altair-viz-f3ef25355b9d409c9273daf1e9b9997d.vega-embed {\n",
       "    width: 100%;\n",
       "    display: flex;\n",
       "  }\n",
       "\n",
       "  #altair-viz-f3ef25355b9d409c9273daf1e9b9997d.vega-embed details,\n",
       "  #altair-viz-f3ef25355b9d409c9273daf1e9b9997d.vega-embed details summary {\n",
       "    position: relative;\n",
       "  }\n",
       "</style>\n",
       "<div id=\"altair-viz-f3ef25355b9d409c9273daf1e9b9997d\"></div>\n",
       "<script type=\"text/javascript\">\n",
       "  var VEGA_DEBUG = (typeof VEGA_DEBUG == \"undefined\") ? {} : VEGA_DEBUG;\n",
       "  (function(spec, embedOpt){\n",
       "    let outputDiv = document.currentScript.previousElementSibling;\n",
       "    if (outputDiv.id !== \"altair-viz-f3ef25355b9d409c9273daf1e9b9997d\") {\n",
       "      outputDiv = document.getElementById(\"altair-viz-f3ef25355b9d409c9273daf1e9b9997d\");\n",
       "    }\n",
       "    const paths = {\n",
       "      \"vega\": \"https://cdn.jsdelivr.net/npm/vega@5?noext\",\n",
       "      \"vega-lib\": \"https://cdn.jsdelivr.net/npm/vega-lib?noext\",\n",
       "      \"vega-lite\": \"https://cdn.jsdelivr.net/npm/vega-lite@5.15.1?noext\",\n",
       "      \"vega-embed\": \"https://cdn.jsdelivr.net/npm/vega-embed@6?noext\",\n",
       "    };\n",
       "\n",
       "    function maybeLoadScript(lib, version) {\n",
       "      var key = `${lib.replace(\"-\", \"\")}_version`;\n",
       "      return (VEGA_DEBUG[key] == version) ?\n",
       "        Promise.resolve(paths[lib]) :\n",
       "        new Promise(function(resolve, reject) {\n",
       "          var s = document.createElement('script');\n",
       "          document.getElementsByTagName(\"head\")[0].appendChild(s);\n",
       "          s.async = true;\n",
       "          s.onload = () => {\n",
       "            VEGA_DEBUG[key] = version;\n",
       "            return resolve(paths[lib]);\n",
       "          };\n",
       "          s.onerror = () => reject(`Error loading script: ${paths[lib]}`);\n",
       "          s.src = paths[lib];\n",
       "        });\n",
       "    }\n",
       "\n",
       "    function showError(err) {\n",
       "      outputDiv.innerHTML = `<div class=\"error\" style=\"color:red;\">${err}</div>`;\n",
       "      throw err;\n",
       "    }\n",
       "\n",
       "    function displayChart(vegaEmbed) {\n",
       "      vegaEmbed(outputDiv, spec, embedOpt)\n",
       "        .catch(err => showError(`Javascript Error: ${err.message}<br>This usually means there's a typo in your chart specification. See the javascript console for the full traceback.`));\n",
       "    }\n",
       "\n",
       "    if(typeof define === \"function\" && define.amd) {\n",
       "      requirejs.config({paths});\n",
       "      require([\"vega-embed\"], displayChart, err => showError(`Error loading script: ${err.message}`));\n",
       "    } else {\n",
       "      maybeLoadScript(\"vega\", \"5\")\n",
       "        .then(() => maybeLoadScript(\"vega-lite\", \"5.15.1\"))\n",
       "        .then(() => maybeLoadScript(\"vega-embed\", \"6\"))\n",
       "        .catch(showError)\n",
       "        .then(() => displayChart(vegaEmbed));\n",
       "    }\n",
       "  })({\"config\": {\"view\": {\"continuousWidth\": 300, \"continuousHeight\": 300}}, \"hconcat\": [{\"data\": {\"url\": \"https://raw.githubusercontent.com/UIUC-iSchool-DataViz/is445_data/main/bfro_reports_fall2022.csv\"}, \"mark\": \"rect\", \"encoding\": {\"color\": {\"aggregate\": \"mean\", \"field\": \"temperature_high\", \"type\": \"quantitative\"}, \"x\": {\"field\": \"state\", \"type\": \"ordinal\"}, \"y\": {\"field\": \"season\", \"type\": \"ordinal\"}}, \"height\": 300, \"name\": \"view_1\"}, {\"data\": {\"url\": \"https://raw.githubusercontent.com/UIUC-iSchool-DataViz/is445_data/main/bfro_reports_fall2022.csv\"}, \"mark\": \"bar\", \"encoding\": {\"x\": {\"bin\": false, \"field\": \"state\", \"title\": \"State\", \"type\": \"ordinal\"}, \"y\": {\"aggregate\": \"count\", \"field\": \"temperature_high\", \"type\": \"quantitative\"}}, \"name\": \"view_2\"}], \"params\": [{\"name\": \"param_2\", \"select\": {\"type\": \"interval\", \"encodings\": [\"x\", \"y\"]}, \"views\": [\"view_1\"]}, {\"name\": \"param_3\", \"select\": {\"type\": \"interval\"}, \"views\": [\"view_2\"]}], \"$schema\": \"https://vega.github.io/schema/vega-lite/v5.15.1.json\"}, {\"mode\": \"vega-lite\"});\n",
       "</script>"
      ],
      "text/plain": [
       "alt.HConcatChart(...)"
      ]
     },
     "execution_count": 79,
     "metadata": {},
     "output_type": "execute_result"
    }
   ],
   "source": [
    "\n",
    "chart"
   ]
  },
  {
   "cell_type": "code",
   "execution_count": 80,
   "id": "b0fc47e6",
   "metadata": {},
   "outputs": [],
   "source": [
    "chart.save(myJekyllDir + 'hw8.json')"
   ]
  },
  {
   "cell_type": "code",
   "execution_count": null,
   "id": "a5d6d7a1",
   "metadata": {},
   "outputs": [],
   "source": []
  }
 ],
 "metadata": {
  "kernelspec": {
   "display_name": "Python 3 (ipykernel)",
   "language": "python",
   "name": "python3"
  },
  "language_info": {
   "codemirror_mode": {
    "name": "ipython",
    "version": 3
   },
   "file_extension": ".py",
   "mimetype": "text/x-python",
   "name": "python",
   "nbconvert_exporter": "python",
   "pygments_lexer": "ipython3",
   "version": "3.9.13"
  }
 },
 "nbformat": 4,
 "nbformat_minor": 5
}
